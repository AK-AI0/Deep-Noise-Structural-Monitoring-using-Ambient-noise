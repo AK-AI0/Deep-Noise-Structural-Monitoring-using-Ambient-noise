{
  "nbformat": 4,
  "nbformat_minor": 0,
  "metadata": {
    "colab": {
      "provenance": []
    },
    "kernelspec": {
      "name": "python3",
      "display_name": "Python 3"
    },
    "language_info": {
      "name": "python"
    },
    "accelerator": "GPU",
    "widgets": {
      "application/vnd.jupyter.widget-state+json": {
        "962c773c33fd4c79b45d06c7648c2b25": {
          "model_module": "@jupyter-widgets/controls",
          "model_name": "HBoxModel",
          "model_module_version": "1.5.0",
          "state": {
            "_dom_classes": [],
            "_model_module": "@jupyter-widgets/controls",
            "_model_module_version": "1.5.0",
            "_model_name": "HBoxModel",
            "_view_count": null,
            "_view_module": "@jupyter-widgets/controls",
            "_view_module_version": "1.5.0",
            "_view_name": "HBoxView",
            "box_style": "",
            "children": [
              "IPY_MODEL_f560882a0df24c1c893556d32010b0e2",
              "IPY_MODEL_fb63ac1737604edc8ab220801489dea0",
              "IPY_MODEL_9acaebf467254ce38ba81497285155ef"
            ],
            "layout": "IPY_MODEL_280365c671b74d5bad14dd4dd6b3c336"
          }
        },
        "f560882a0df24c1c893556d32010b0e2": {
          "model_module": "@jupyter-widgets/controls",
          "model_name": "HTMLModel",
          "model_module_version": "1.5.0",
          "state": {
            "_dom_classes": [],
            "_model_module": "@jupyter-widgets/controls",
            "_model_module_version": "1.5.0",
            "_model_name": "HTMLModel",
            "_view_count": null,
            "_view_module": "@jupyter-widgets/controls",
            "_view_module_version": "1.5.0",
            "_view_name": "HTMLView",
            "description": "",
            "description_tooltip": null,
            "layout": "IPY_MODEL_1031c3621dfc4c88bdd5bc9be966807c",
            "placeholder": "​",
            "style": "IPY_MODEL_6f1d5060429f4c2d8308227c914b0632",
            "value": "100%"
          }
        },
        "fb63ac1737604edc8ab220801489dea0": {
          "model_module": "@jupyter-widgets/controls",
          "model_name": "FloatProgressModel",
          "model_module_version": "1.5.0",
          "state": {
            "_dom_classes": [],
            "_model_module": "@jupyter-widgets/controls",
            "_model_module_version": "1.5.0",
            "_model_name": "FloatProgressModel",
            "_view_count": null,
            "_view_module": "@jupyter-widgets/controls",
            "_view_module_version": "1.5.0",
            "_view_name": "ProgressView",
            "bar_style": "success",
            "description": "",
            "description_tooltip": null,
            "layout": "IPY_MODEL_cc7d83852a624feb9f187215c2e76843",
            "max": 108949747,
            "min": 0,
            "orientation": "horizontal",
            "style": "IPY_MODEL_1edcec1d97c1469f8605b1daa449e762",
            "value": 108949747
          }
        },
        "9acaebf467254ce38ba81497285155ef": {
          "model_module": "@jupyter-widgets/controls",
          "model_name": "HTMLModel",
          "model_module_version": "1.5.0",
          "state": {
            "_dom_classes": [],
            "_model_module": "@jupyter-widgets/controls",
            "_model_module_version": "1.5.0",
            "_model_name": "HTMLModel",
            "_view_count": null,
            "_view_module": "@jupyter-widgets/controls",
            "_view_module_version": "1.5.0",
            "_view_name": "HTMLView",
            "description": "",
            "description_tooltip": null,
            "layout": "IPY_MODEL_1f9a417253034ad6ad5211b93e738b52",
            "placeholder": "​",
            "style": "IPY_MODEL_c4e63cd00f384ce485788defa0a8a86d",
            "value": " 104M/104M [00:04&lt;00:00, 23.9MB/s]"
          }
        },
        "280365c671b74d5bad14dd4dd6b3c336": {
          "model_module": "@jupyter-widgets/base",
          "model_name": "LayoutModel",
          "model_module_version": "1.2.0",
          "state": {
            "_model_module": "@jupyter-widgets/base",
            "_model_module_version": "1.2.0",
            "_model_name": "LayoutModel",
            "_view_count": null,
            "_view_module": "@jupyter-widgets/base",
            "_view_module_version": "1.2.0",
            "_view_name": "LayoutView",
            "align_content": null,
            "align_items": null,
            "align_self": null,
            "border": null,
            "bottom": null,
            "display": null,
            "flex": null,
            "flex_flow": null,
            "grid_area": null,
            "grid_auto_columns": null,
            "grid_auto_flow": null,
            "grid_auto_rows": null,
            "grid_column": null,
            "grid_gap": null,
            "grid_row": null,
            "grid_template_areas": null,
            "grid_template_columns": null,
            "grid_template_rows": null,
            "height": null,
            "justify_content": null,
            "justify_items": null,
            "left": null,
            "margin": null,
            "max_height": null,
            "max_width": null,
            "min_height": null,
            "min_width": null,
            "object_fit": null,
            "object_position": null,
            "order": null,
            "overflow": null,
            "overflow_x": null,
            "overflow_y": null,
            "padding": null,
            "right": null,
            "top": null,
            "visibility": null,
            "width": null
          }
        },
        "1031c3621dfc4c88bdd5bc9be966807c": {
          "model_module": "@jupyter-widgets/base",
          "model_name": "LayoutModel",
          "model_module_version": "1.2.0",
          "state": {
            "_model_module": "@jupyter-widgets/base",
            "_model_module_version": "1.2.0",
            "_model_name": "LayoutModel",
            "_view_count": null,
            "_view_module": "@jupyter-widgets/base",
            "_view_module_version": "1.2.0",
            "_view_name": "LayoutView",
            "align_content": null,
            "align_items": null,
            "align_self": null,
            "border": null,
            "bottom": null,
            "display": null,
            "flex": null,
            "flex_flow": null,
            "grid_area": null,
            "grid_auto_columns": null,
            "grid_auto_flow": null,
            "grid_auto_rows": null,
            "grid_column": null,
            "grid_gap": null,
            "grid_row": null,
            "grid_template_areas": null,
            "grid_template_columns": null,
            "grid_template_rows": null,
            "height": null,
            "justify_content": null,
            "justify_items": null,
            "left": null,
            "margin": null,
            "max_height": null,
            "max_width": null,
            "min_height": null,
            "min_width": null,
            "object_fit": null,
            "object_position": null,
            "order": null,
            "overflow": null,
            "overflow_x": null,
            "overflow_y": null,
            "padding": null,
            "right": null,
            "top": null,
            "visibility": null,
            "width": null
          }
        },
        "6f1d5060429f4c2d8308227c914b0632": {
          "model_module": "@jupyter-widgets/controls",
          "model_name": "DescriptionStyleModel",
          "model_module_version": "1.5.0",
          "state": {
            "_model_module": "@jupyter-widgets/controls",
            "_model_module_version": "1.5.0",
            "_model_name": "DescriptionStyleModel",
            "_view_count": null,
            "_view_module": "@jupyter-widgets/base",
            "_view_module_version": "1.2.0",
            "_view_name": "StyleView",
            "description_width": ""
          }
        },
        "cc7d83852a624feb9f187215c2e76843": {
          "model_module": "@jupyter-widgets/base",
          "model_name": "LayoutModel",
          "model_module_version": "1.2.0",
          "state": {
            "_model_module": "@jupyter-widgets/base",
            "_model_module_version": "1.2.0",
            "_model_name": "LayoutModel",
            "_view_count": null,
            "_view_module": "@jupyter-widgets/base",
            "_view_module_version": "1.2.0",
            "_view_name": "LayoutView",
            "align_content": null,
            "align_items": null,
            "align_self": null,
            "border": null,
            "bottom": null,
            "display": null,
            "flex": null,
            "flex_flow": null,
            "grid_area": null,
            "grid_auto_columns": null,
            "grid_auto_flow": null,
            "grid_auto_rows": null,
            "grid_column": null,
            "grid_gap": null,
            "grid_row": null,
            "grid_template_areas": null,
            "grid_template_columns": null,
            "grid_template_rows": null,
            "height": null,
            "justify_content": null,
            "justify_items": null,
            "left": null,
            "margin": null,
            "max_height": null,
            "max_width": null,
            "min_height": null,
            "min_width": null,
            "object_fit": null,
            "object_position": null,
            "order": null,
            "overflow": null,
            "overflow_x": null,
            "overflow_y": null,
            "padding": null,
            "right": null,
            "top": null,
            "visibility": null,
            "width": null
          }
        },
        "1edcec1d97c1469f8605b1daa449e762": {
          "model_module": "@jupyter-widgets/controls",
          "model_name": "ProgressStyleModel",
          "model_module_version": "1.5.0",
          "state": {
            "_model_module": "@jupyter-widgets/controls",
            "_model_module_version": "1.5.0",
            "_model_name": "ProgressStyleModel",
            "_view_count": null,
            "_view_module": "@jupyter-widgets/base",
            "_view_module_version": "1.2.0",
            "_view_name": "StyleView",
            "bar_color": null,
            "description_width": ""
          }
        },
        "1f9a417253034ad6ad5211b93e738b52": {
          "model_module": "@jupyter-widgets/base",
          "model_name": "LayoutModel",
          "model_module_version": "1.2.0",
          "state": {
            "_model_module": "@jupyter-widgets/base",
            "_model_module_version": "1.2.0",
            "_model_name": "LayoutModel",
            "_view_count": null,
            "_view_module": "@jupyter-widgets/base",
            "_view_module_version": "1.2.0",
            "_view_name": "LayoutView",
            "align_content": null,
            "align_items": null,
            "align_self": null,
            "border": null,
            "bottom": null,
            "display": null,
            "flex": null,
            "flex_flow": null,
            "grid_area": null,
            "grid_auto_columns": null,
            "grid_auto_flow": null,
            "grid_auto_rows": null,
            "grid_column": null,
            "grid_gap": null,
            "grid_row": null,
            "grid_template_areas": null,
            "grid_template_columns": null,
            "grid_template_rows": null,
            "height": null,
            "justify_content": null,
            "justify_items": null,
            "left": null,
            "margin": null,
            "max_height": null,
            "max_width": null,
            "min_height": null,
            "min_width": null,
            "object_fit": null,
            "object_position": null,
            "order": null,
            "overflow": null,
            "overflow_x": null,
            "overflow_y": null,
            "padding": null,
            "right": null,
            "top": null,
            "visibility": null,
            "width": null
          }
        },
        "c4e63cd00f384ce485788defa0a8a86d": {
          "model_module": "@jupyter-widgets/controls",
          "model_name": "DescriptionStyleModel",
          "model_module_version": "1.5.0",
          "state": {
            "_model_module": "@jupyter-widgets/controls",
            "_model_module_version": "1.5.0",
            "_model_name": "DescriptionStyleModel",
            "_view_count": null,
            "_view_module": "@jupyter-widgets/base",
            "_view_module_version": "1.2.0",
            "_view_name": "StyleView",
            "description_width": ""
          }
        },
        "5b80d59eb3044b57a4fb8da9176f3afe": {
          "model_module": "@jupyter-widgets/controls",
          "model_name": "HBoxModel",
          "model_module_version": "1.5.0",
          "state": {
            "_dom_classes": [],
            "_model_module": "@jupyter-widgets/controls",
            "_model_module_version": "1.5.0",
            "_model_name": "HBoxModel",
            "_view_count": null,
            "_view_module": "@jupyter-widgets/controls",
            "_view_module_version": "1.5.0",
            "_view_name": "HBoxView",
            "box_style": "",
            "children": [
              "IPY_MODEL_a38d7d47bd544cbda058928fe0ad9c29",
              "IPY_MODEL_781e0dd83f9140da87b9794582476771",
              "IPY_MODEL_b9aed25373574f96bb9ba2d734f1f5e2"
            ],
            "layout": "IPY_MODEL_e5f3551c6d504e8b96543e81152c2fb1"
          }
        },
        "a38d7d47bd544cbda058928fe0ad9c29": {
          "model_module": "@jupyter-widgets/controls",
          "model_name": "HTMLModel",
          "model_module_version": "1.5.0",
          "state": {
            "_dom_classes": [],
            "_model_module": "@jupyter-widgets/controls",
            "_model_module_version": "1.5.0",
            "_model_name": "HTMLModel",
            "_view_count": null,
            "_view_module": "@jupyter-widgets/controls",
            "_view_module_version": "1.5.0",
            "_view_name": "HTMLView",
            "description": "",
            "description_tooltip": null,
            "layout": "IPY_MODEL_97d6ce428b404f2fa299cb58716074cb",
            "placeholder": "​",
            "style": "IPY_MODEL_e1e0654e9aa64c3ca06d07cdc7e95ed4",
            "value": "100%"
          }
        },
        "781e0dd83f9140da87b9794582476771": {
          "model_module": "@jupyter-widgets/controls",
          "model_name": "FloatProgressModel",
          "model_module_version": "1.5.0",
          "state": {
            "_dom_classes": [],
            "_model_module": "@jupyter-widgets/controls",
            "_model_module_version": "1.5.0",
            "_model_name": "FloatProgressModel",
            "_view_count": null,
            "_view_module": "@jupyter-widgets/controls",
            "_view_module_version": "1.5.0",
            "_view_name": "ProgressView",
            "bar_style": "success",
            "description": "",
            "description_tooltip": null,
            "layout": "IPY_MODEL_19ac61817459493d80a955ddb2506c8a",
            "max": 46830571,
            "min": 0,
            "orientation": "horizontal",
            "style": "IPY_MODEL_55c1852cf4d24158b69b896acabebc55",
            "value": 46830571
          }
        },
        "b9aed25373574f96bb9ba2d734f1f5e2": {
          "model_module": "@jupyter-widgets/controls",
          "model_name": "HTMLModel",
          "model_module_version": "1.5.0",
          "state": {
            "_dom_classes": [],
            "_model_module": "@jupyter-widgets/controls",
            "_model_module_version": "1.5.0",
            "_model_name": "HTMLModel",
            "_view_count": null,
            "_view_module": "@jupyter-widgets/controls",
            "_view_module_version": "1.5.0",
            "_view_name": "HTMLView",
            "description": "",
            "description_tooltip": null,
            "layout": "IPY_MODEL_56109608363b40ef9510ac167591813e",
            "placeholder": "​",
            "style": "IPY_MODEL_f60277c6731a49a496c5ca667b92f4d9",
            "value": " 44.7M/44.7M [00:00&lt;00:00, 110MB/s]"
          }
        },
        "e5f3551c6d504e8b96543e81152c2fb1": {
          "model_module": "@jupyter-widgets/base",
          "model_name": "LayoutModel",
          "model_module_version": "1.2.0",
          "state": {
            "_model_module": "@jupyter-widgets/base",
            "_model_module_version": "1.2.0",
            "_model_name": "LayoutModel",
            "_view_count": null,
            "_view_module": "@jupyter-widgets/base",
            "_view_module_version": "1.2.0",
            "_view_name": "LayoutView",
            "align_content": null,
            "align_items": null,
            "align_self": null,
            "border": null,
            "bottom": null,
            "display": null,
            "flex": null,
            "flex_flow": null,
            "grid_area": null,
            "grid_auto_columns": null,
            "grid_auto_flow": null,
            "grid_auto_rows": null,
            "grid_column": null,
            "grid_gap": null,
            "grid_row": null,
            "grid_template_areas": null,
            "grid_template_columns": null,
            "grid_template_rows": null,
            "height": null,
            "justify_content": null,
            "justify_items": null,
            "left": null,
            "margin": null,
            "max_height": null,
            "max_width": null,
            "min_height": null,
            "min_width": null,
            "object_fit": null,
            "object_position": null,
            "order": null,
            "overflow": null,
            "overflow_x": null,
            "overflow_y": null,
            "padding": null,
            "right": null,
            "top": null,
            "visibility": null,
            "width": null
          }
        },
        "97d6ce428b404f2fa299cb58716074cb": {
          "model_module": "@jupyter-widgets/base",
          "model_name": "LayoutModel",
          "model_module_version": "1.2.0",
          "state": {
            "_model_module": "@jupyter-widgets/base",
            "_model_module_version": "1.2.0",
            "_model_name": "LayoutModel",
            "_view_count": null,
            "_view_module": "@jupyter-widgets/base",
            "_view_module_version": "1.2.0",
            "_view_name": "LayoutView",
            "align_content": null,
            "align_items": null,
            "align_self": null,
            "border": null,
            "bottom": null,
            "display": null,
            "flex": null,
            "flex_flow": null,
            "grid_area": null,
            "grid_auto_columns": null,
            "grid_auto_flow": null,
            "grid_auto_rows": null,
            "grid_column": null,
            "grid_gap": null,
            "grid_row": null,
            "grid_template_areas": null,
            "grid_template_columns": null,
            "grid_template_rows": null,
            "height": null,
            "justify_content": null,
            "justify_items": null,
            "left": null,
            "margin": null,
            "max_height": null,
            "max_width": null,
            "min_height": null,
            "min_width": null,
            "object_fit": null,
            "object_position": null,
            "order": null,
            "overflow": null,
            "overflow_x": null,
            "overflow_y": null,
            "padding": null,
            "right": null,
            "top": null,
            "visibility": null,
            "width": null
          }
        },
        "e1e0654e9aa64c3ca06d07cdc7e95ed4": {
          "model_module": "@jupyter-widgets/controls",
          "model_name": "DescriptionStyleModel",
          "model_module_version": "1.5.0",
          "state": {
            "_model_module": "@jupyter-widgets/controls",
            "_model_module_version": "1.5.0",
            "_model_name": "DescriptionStyleModel",
            "_view_count": null,
            "_view_module": "@jupyter-widgets/base",
            "_view_module_version": "1.2.0",
            "_view_name": "StyleView",
            "description_width": ""
          }
        },
        "19ac61817459493d80a955ddb2506c8a": {
          "model_module": "@jupyter-widgets/base",
          "model_name": "LayoutModel",
          "model_module_version": "1.2.0",
          "state": {
            "_model_module": "@jupyter-widgets/base",
            "_model_module_version": "1.2.0",
            "_model_name": "LayoutModel",
            "_view_count": null,
            "_view_module": "@jupyter-widgets/base",
            "_view_module_version": "1.2.0",
            "_view_name": "LayoutView",
            "align_content": null,
            "align_items": null,
            "align_self": null,
            "border": null,
            "bottom": null,
            "display": null,
            "flex": null,
            "flex_flow": null,
            "grid_area": null,
            "grid_auto_columns": null,
            "grid_auto_flow": null,
            "grid_auto_rows": null,
            "grid_column": null,
            "grid_gap": null,
            "grid_row": null,
            "grid_template_areas": null,
            "grid_template_columns": null,
            "grid_template_rows": null,
            "height": null,
            "justify_content": null,
            "justify_items": null,
            "left": null,
            "margin": null,
            "max_height": null,
            "max_width": null,
            "min_height": null,
            "min_width": null,
            "object_fit": null,
            "object_position": null,
            "order": null,
            "overflow": null,
            "overflow_x": null,
            "overflow_y": null,
            "padding": null,
            "right": null,
            "top": null,
            "visibility": null,
            "width": null
          }
        },
        "55c1852cf4d24158b69b896acabebc55": {
          "model_module": "@jupyter-widgets/controls",
          "model_name": "ProgressStyleModel",
          "model_module_version": "1.5.0",
          "state": {
            "_model_module": "@jupyter-widgets/controls",
            "_model_module_version": "1.5.0",
            "_model_name": "ProgressStyleModel",
            "_view_count": null,
            "_view_module": "@jupyter-widgets/base",
            "_view_module_version": "1.2.0",
            "_view_name": "StyleView",
            "bar_color": null,
            "description_width": ""
          }
        },
        "56109608363b40ef9510ac167591813e": {
          "model_module": "@jupyter-widgets/base",
          "model_name": "LayoutModel",
          "model_module_version": "1.2.0",
          "state": {
            "_model_module": "@jupyter-widgets/base",
            "_model_module_version": "1.2.0",
            "_model_name": "LayoutModel",
            "_view_count": null,
            "_view_module": "@jupyter-widgets/base",
            "_view_module_version": "1.2.0",
            "_view_name": "LayoutView",
            "align_content": null,
            "align_items": null,
            "align_self": null,
            "border": null,
            "bottom": null,
            "display": null,
            "flex": null,
            "flex_flow": null,
            "grid_area": null,
            "grid_auto_columns": null,
            "grid_auto_flow": null,
            "grid_auto_rows": null,
            "grid_column": null,
            "grid_gap": null,
            "grid_row": null,
            "grid_template_areas": null,
            "grid_template_columns": null,
            "grid_template_rows": null,
            "height": null,
            "justify_content": null,
            "justify_items": null,
            "left": null,
            "margin": null,
            "max_height": null,
            "max_width": null,
            "min_height": null,
            "min_width": null,
            "object_fit": null,
            "object_position": null,
            "order": null,
            "overflow": null,
            "overflow_x": null,
            "overflow_y": null,
            "padding": null,
            "right": null,
            "top": null,
            "visibility": null,
            "width": null
          }
        },
        "f60277c6731a49a496c5ca667b92f4d9": {
          "model_module": "@jupyter-widgets/controls",
          "model_name": "DescriptionStyleModel",
          "model_module_version": "1.5.0",
          "state": {
            "_model_module": "@jupyter-widgets/controls",
            "_model_module_version": "1.5.0",
            "_model_name": "DescriptionStyleModel",
            "_view_count": null,
            "_view_module": "@jupyter-widgets/base",
            "_view_module_version": "1.2.0",
            "_view_name": "StyleView",
            "description_width": ""
          }
        },
        "0ec13961a96342898a0cf9712aee9af8": {
          "model_module": "@jupyter-widgets/controls",
          "model_name": "HBoxModel",
          "model_module_version": "1.5.0",
          "state": {
            "_dom_classes": [],
            "_model_module": "@jupyter-widgets/controls",
            "_model_module_version": "1.5.0",
            "_model_name": "HBoxModel",
            "_view_count": null,
            "_view_module": "@jupyter-widgets/controls",
            "_view_module_version": "1.5.0",
            "_view_name": "HBoxView",
            "box_style": "",
            "children": [
              "IPY_MODEL_8bd11d1e6cd348c8bedaccdbeabb7e7b",
              "IPY_MODEL_ae10ba4fbad24bb387d913077fcf0fb3",
              "IPY_MODEL_19fc9d06676848129bc8e531c2a3a676"
            ],
            "layout": "IPY_MODEL_290cce01b65e4d4aa8f1c159a4288ffa"
          }
        },
        "8bd11d1e6cd348c8bedaccdbeabb7e7b": {
          "model_module": "@jupyter-widgets/controls",
          "model_name": "HTMLModel",
          "model_module_version": "1.5.0",
          "state": {
            "_dom_classes": [],
            "_model_module": "@jupyter-widgets/controls",
            "_model_module_version": "1.5.0",
            "_model_name": "HTMLModel",
            "_view_count": null,
            "_view_module": "@jupyter-widgets/controls",
            "_view_module_version": "1.5.0",
            "_view_name": "HTMLView",
            "description": "",
            "description_tooltip": null,
            "layout": "IPY_MODEL_c01775363b1d4da4992b7da229366917",
            "placeholder": "​",
            "style": "IPY_MODEL_6b337525a1054915b4071280d8dee732",
            "value": "100%"
          }
        },
        "ae10ba4fbad24bb387d913077fcf0fb3": {
          "model_module": "@jupyter-widgets/controls",
          "model_name": "FloatProgressModel",
          "model_module_version": "1.5.0",
          "state": {
            "_dom_classes": [],
            "_model_module": "@jupyter-widgets/controls",
            "_model_module_version": "1.5.0",
            "_model_name": "FloatProgressModel",
            "_view_count": null,
            "_view_module": "@jupyter-widgets/controls",
            "_view_module_version": "1.5.0",
            "_view_name": "ProgressView",
            "bar_style": "success",
            "description": "",
            "description_tooltip": null,
            "layout": "IPY_MODEL_95ca9d864f1346ccb2713d3de5b32947",
            "max": 553507836,
            "min": 0,
            "orientation": "horizontal",
            "style": "IPY_MODEL_d9bb034fe9674d54b501420365e1c157",
            "value": 553507836
          }
        },
        "19fc9d06676848129bc8e531c2a3a676": {
          "model_module": "@jupyter-widgets/controls",
          "model_name": "HTMLModel",
          "model_module_version": "1.5.0",
          "state": {
            "_dom_classes": [],
            "_model_module": "@jupyter-widgets/controls",
            "_model_module_version": "1.5.0",
            "_model_name": "HTMLModel",
            "_view_count": null,
            "_view_module": "@jupyter-widgets/controls",
            "_view_module_version": "1.5.0",
            "_view_name": "HTMLView",
            "description": "",
            "description_tooltip": null,
            "layout": "IPY_MODEL_3614dc127fd94d608305d0fc8406788f",
            "placeholder": "​",
            "style": "IPY_MODEL_6a2bbde52080433e9484a9ccb26c9542",
            "value": " 528M/528M [00:06&lt;00:00, 91.1MB/s]"
          }
        },
        "290cce01b65e4d4aa8f1c159a4288ffa": {
          "model_module": "@jupyter-widgets/base",
          "model_name": "LayoutModel",
          "model_module_version": "1.2.0",
          "state": {
            "_model_module": "@jupyter-widgets/base",
            "_model_module_version": "1.2.0",
            "_model_name": "LayoutModel",
            "_view_count": null,
            "_view_module": "@jupyter-widgets/base",
            "_view_module_version": "1.2.0",
            "_view_name": "LayoutView",
            "align_content": null,
            "align_items": null,
            "align_self": null,
            "border": null,
            "bottom": null,
            "display": null,
            "flex": null,
            "flex_flow": null,
            "grid_area": null,
            "grid_auto_columns": null,
            "grid_auto_flow": null,
            "grid_auto_rows": null,
            "grid_column": null,
            "grid_gap": null,
            "grid_row": null,
            "grid_template_areas": null,
            "grid_template_columns": null,
            "grid_template_rows": null,
            "height": null,
            "justify_content": null,
            "justify_items": null,
            "left": null,
            "margin": null,
            "max_height": null,
            "max_width": null,
            "min_height": null,
            "min_width": null,
            "object_fit": null,
            "object_position": null,
            "order": null,
            "overflow": null,
            "overflow_x": null,
            "overflow_y": null,
            "padding": null,
            "right": null,
            "top": null,
            "visibility": null,
            "width": null
          }
        },
        "c01775363b1d4da4992b7da229366917": {
          "model_module": "@jupyter-widgets/base",
          "model_name": "LayoutModel",
          "model_module_version": "1.2.0",
          "state": {
            "_model_module": "@jupyter-widgets/base",
            "_model_module_version": "1.2.0",
            "_model_name": "LayoutModel",
            "_view_count": null,
            "_view_module": "@jupyter-widgets/base",
            "_view_module_version": "1.2.0",
            "_view_name": "LayoutView",
            "align_content": null,
            "align_items": null,
            "align_self": null,
            "border": null,
            "bottom": null,
            "display": null,
            "flex": null,
            "flex_flow": null,
            "grid_area": null,
            "grid_auto_columns": null,
            "grid_auto_flow": null,
            "grid_auto_rows": null,
            "grid_column": null,
            "grid_gap": null,
            "grid_row": null,
            "grid_template_areas": null,
            "grid_template_columns": null,
            "grid_template_rows": null,
            "height": null,
            "justify_content": null,
            "justify_items": null,
            "left": null,
            "margin": null,
            "max_height": null,
            "max_width": null,
            "min_height": null,
            "min_width": null,
            "object_fit": null,
            "object_position": null,
            "order": null,
            "overflow": null,
            "overflow_x": null,
            "overflow_y": null,
            "padding": null,
            "right": null,
            "top": null,
            "visibility": null,
            "width": null
          }
        },
        "6b337525a1054915b4071280d8dee732": {
          "model_module": "@jupyter-widgets/controls",
          "model_name": "DescriptionStyleModel",
          "model_module_version": "1.5.0",
          "state": {
            "_model_module": "@jupyter-widgets/controls",
            "_model_module_version": "1.5.0",
            "_model_name": "DescriptionStyleModel",
            "_view_count": null,
            "_view_module": "@jupyter-widgets/base",
            "_view_module_version": "1.2.0",
            "_view_name": "StyleView",
            "description_width": ""
          }
        },
        "95ca9d864f1346ccb2713d3de5b32947": {
          "model_module": "@jupyter-widgets/base",
          "model_name": "LayoutModel",
          "model_module_version": "1.2.0",
          "state": {
            "_model_module": "@jupyter-widgets/base",
            "_model_module_version": "1.2.0",
            "_model_name": "LayoutModel",
            "_view_count": null,
            "_view_module": "@jupyter-widgets/base",
            "_view_module_version": "1.2.0",
            "_view_name": "LayoutView",
            "align_content": null,
            "align_items": null,
            "align_self": null,
            "border": null,
            "bottom": null,
            "display": null,
            "flex": null,
            "flex_flow": null,
            "grid_area": null,
            "grid_auto_columns": null,
            "grid_auto_flow": null,
            "grid_auto_rows": null,
            "grid_column": null,
            "grid_gap": null,
            "grid_row": null,
            "grid_template_areas": null,
            "grid_template_columns": null,
            "grid_template_rows": null,
            "height": null,
            "justify_content": null,
            "justify_items": null,
            "left": null,
            "margin": null,
            "max_height": null,
            "max_width": null,
            "min_height": null,
            "min_width": null,
            "object_fit": null,
            "object_position": null,
            "order": null,
            "overflow": null,
            "overflow_x": null,
            "overflow_y": null,
            "padding": null,
            "right": null,
            "top": null,
            "visibility": null,
            "width": null
          }
        },
        "d9bb034fe9674d54b501420365e1c157": {
          "model_module": "@jupyter-widgets/controls",
          "model_name": "ProgressStyleModel",
          "model_module_version": "1.5.0",
          "state": {
            "_model_module": "@jupyter-widgets/controls",
            "_model_module_version": "1.5.0",
            "_model_name": "ProgressStyleModel",
            "_view_count": null,
            "_view_module": "@jupyter-widgets/base",
            "_view_module_version": "1.2.0",
            "_view_name": "StyleView",
            "bar_color": null,
            "description_width": ""
          }
        },
        "3614dc127fd94d608305d0fc8406788f": {
          "model_module": "@jupyter-widgets/base",
          "model_name": "LayoutModel",
          "model_module_version": "1.2.0",
          "state": {
            "_model_module": "@jupyter-widgets/base",
            "_model_module_version": "1.2.0",
            "_model_name": "LayoutModel",
            "_view_count": null,
            "_view_module": "@jupyter-widgets/base",
            "_view_module_version": "1.2.0",
            "_view_name": "LayoutView",
            "align_content": null,
            "align_items": null,
            "align_self": null,
            "border": null,
            "bottom": null,
            "display": null,
            "flex": null,
            "flex_flow": null,
            "grid_area": null,
            "grid_auto_columns": null,
            "grid_auto_flow": null,
            "grid_auto_rows": null,
            "grid_column": null,
            "grid_gap": null,
            "grid_row": null,
            "grid_template_areas": null,
            "grid_template_columns": null,
            "grid_template_rows": null,
            "height": null,
            "justify_content": null,
            "justify_items": null,
            "left": null,
            "margin": null,
            "max_height": null,
            "max_width": null,
            "min_height": null,
            "min_width": null,
            "object_fit": null,
            "object_position": null,
            "order": null,
            "overflow": null,
            "overflow_x": null,
            "overflow_y": null,
            "padding": null,
            "right": null,
            "top": null,
            "visibility": null,
            "width": null
          }
        },
        "6a2bbde52080433e9484a9ccb26c9542": {
          "model_module": "@jupyter-widgets/controls",
          "model_name": "DescriptionStyleModel",
          "model_module_version": "1.5.0",
          "state": {
            "_model_module": "@jupyter-widgets/controls",
            "_model_module_version": "1.5.0",
            "_model_name": "DescriptionStyleModel",
            "_view_count": null,
            "_view_module": "@jupyter-widgets/base",
            "_view_module_version": "1.2.0",
            "_view_name": "StyleView",
            "description_width": ""
          }
        }
      }
    }
  },
  "cells": [
    {
      "cell_type": "code",
      "execution_count": null,
      "metadata": {
        "id": "m4zFUvoCLcqr"
      },
      "outputs": [],
      "source": [
        "import matplotlib.pyplot as plt\n",
        "import numpy as np\n",
        "\n",
        "import torch\n",
        "import torchvision\n",
        "import torchvision.transforms as transforms\n",
        "import torch.nn as nn\n",
        "import torch.optim as optim"
      ]
    },
    {
      "cell_type": "code",
      "source": [
        "!pip install mlflow"
      ],
      "metadata": {
        "id": "nQlTlaldZVIr"
      },
      "execution_count": null,
      "outputs": []
    },
    {
      "cell_type": "code",
      "source": [
        "import mlflow\n",
        "import mlflow.pytorch"
      ],
      "metadata": {
        "id": "Uzi_Or9jZXOU"
      },
      "execution_count": null,
      "outputs": []
    },
    {
      "cell_type": "code",
      "source": [
        "# Verifies the existance of GPU instance\n",
        "device = torch.device(\"cuda:0\" if torch.cuda.is_available() else \"cpu\")\n",
        "print(device)"
      ],
      "metadata": {
        "colab": {
          "base_uri": "https://localhost:8080/"
        },
        "id": "t0n_ngnoL39t",
        "outputId": "8124ba32-b92f-4f8a-fb7e-637b7a16ad4c"
      },
      "execution_count": null,
      "outputs": [
        {
          "output_type": "stream",
          "name": "stdout",
          "text": [
            "cuda:0\n"
          ]
        }
      ]
    },
    {
      "cell_type": "code",
      "source": [
        "from torchvision import models"
      ],
      "metadata": {
        "id": "SyhWuLgdNTJb"
      },
      "execution_count": null,
      "outputs": []
    },
    {
      "cell_type": "markdown",
      "source": [
        "**Initializing pretrained Models**"
      ],
      "metadata": {
        "id": "uCMIbtjNtkKa"
      }
    },
    {
      "cell_type": "code",
      "source": [
        "inception = models.inception_v3(pretrained=True)"
      ],
      "metadata": {
        "id": "vffPoybAL8za",
        "colab": {
          "base_uri": "https://localhost:8080/",
          "height": 156,
          "referenced_widgets": [
            "962c773c33fd4c79b45d06c7648c2b25",
            "f560882a0df24c1c893556d32010b0e2",
            "fb63ac1737604edc8ab220801489dea0",
            "9acaebf467254ce38ba81497285155ef",
            "280365c671b74d5bad14dd4dd6b3c336",
            "1031c3621dfc4c88bdd5bc9be966807c",
            "6f1d5060429f4c2d8308227c914b0632",
            "cc7d83852a624feb9f187215c2e76843",
            "1edcec1d97c1469f8605b1daa449e762",
            "1f9a417253034ad6ad5211b93e738b52",
            "c4e63cd00f384ce485788defa0a8a86d"
          ]
        },
        "outputId": "980280cf-8e65-46eb-ce70-1823c7ff4c91"
      },
      "execution_count": null,
      "outputs": [
        {
          "output_type": "stream",
          "name": "stderr",
          "text": [
            "/usr/local/lib/python3.7/dist-packages/torchvision/models/_utils.py:209: UserWarning: The parameter 'pretrained' is deprecated since 0.13 and will be removed in 0.15, please use 'weights' instead.\n",
            "  f\"The parameter '{pretrained_param}' is deprecated since 0.13 and will be removed in 0.15, \"\n",
            "/usr/local/lib/python3.7/dist-packages/torchvision/models/_utils.py:223: UserWarning: Arguments other than a weight enum or `None` for 'weights' are deprecated since 0.13 and will be removed in 0.15. The current behavior is equivalent to passing `weights=Inception_V3_Weights.IMAGENET1K_V1`. You can also use `weights=Inception_V3_Weights.DEFAULT` to get the most up-to-date weights.\n",
            "  warnings.warn(msg)\n",
            "Downloading: \"https://download.pytorch.org/models/inception_v3_google-0cc3c7bd.pth\" to /root/.cache/torch/hub/checkpoints/inception_v3_google-0cc3c7bd.pth\n"
          ]
        },
        {
          "output_type": "display_data",
          "data": {
            "text/plain": [
              "  0%|          | 0.00/104M [00:00<?, ?B/s]"
            ],
            "application/vnd.jupyter.widget-view+json": {
              "version_major": 2,
              "version_minor": 0,
              "model_id": "962c773c33fd4c79b45d06c7648c2b25"
            }
          },
          "metadata": {}
        }
      ]
    },
    {
      "cell_type": "code",
      "source": [
        "for param in inception.parameters():\n",
        "    param.requires_grad = False"
      ],
      "metadata": {
        "id": "Uap3ap-NNMq2"
      },
      "execution_count": null,
      "outputs": []
    },
    {
      "cell_type": "code",
      "source": [
        "print(inception)"
      ],
      "metadata": {
        "id": "z6hwDcaMOqMS"
      },
      "execution_count": null,
      "outputs": []
    },
    {
      "cell_type": "code",
      "source": [
        "# To modify the final output layer/architecture and also the auxilliary section of the network \n",
        "aux_in_features = inception.AuxLogits.fc.in_features   \n",
        "inception.AuxLogits.fc = nn.Linear(aux_in_features, 2)"
      ],
      "metadata": {
        "id": "s5DR9lLaOIPF"
      },
      "execution_count": null,
      "outputs": []
    },
    {
      "cell_type": "code",
      "source": [
        "for param in inception.parameters():\n",
        "    if param.requires_grad:\n",
        "        print(param.shape)"
      ],
      "metadata": {
        "id": "bSIlKAZPqnJD"
      },
      "execution_count": null,
      "outputs": []
    },
    {
      "cell_type": "code",
      "source": [
        "in_features = inception.fc.in_features\n",
        "inception.fc =  nn.Linear(in_features, 2)"
      ],
      "metadata": {
        "id": "KR9b4rCW5ScW"
      },
      "execution_count": null,
      "outputs": []
    },
    {
      "cell_type": "code",
      "source": [
        "in_features = inception.fc.in_features\n",
        "inception.fc =  nn.Sequential(\n",
        "    nn.Linear(in_features,1000),\n",
        "    nn.ReLU(),\n",
        "    nn.Linear(1000,256),\n",
        "    nn.ReLU(),\n",
        "    nn.Linear(256,128),\n",
        "    nn.ReLU(),\n",
        "    nn.Linear(128,64),\n",
        "    nn.ReLU(),\n",
        "    nn.Linear(64,2)\n",
        "              )"
      ],
      "metadata": {
        "id": "awQmsOTMqx9J"
      },
      "execution_count": null,
      "outputs": []
    },
    {
      "cell_type": "markdown",
      "source": [
        "----------------"
      ],
      "metadata": {
        "id": "JMK_e0fdH8zf"
      }
    },
    {
      "cell_type": "code",
      "source": [
        "resnet = models.resnet18(pretrained=True)"
      ],
      "metadata": {
        "colab": {
          "base_uri": "https://localhost:8080/",
          "height": 121,
          "referenced_widgets": [
            "5b80d59eb3044b57a4fb8da9176f3afe",
            "a38d7d47bd544cbda058928fe0ad9c29",
            "781e0dd83f9140da87b9794582476771",
            "b9aed25373574f96bb9ba2d734f1f5e2",
            "e5f3551c6d504e8b96543e81152c2fb1",
            "97d6ce428b404f2fa299cb58716074cb",
            "e1e0654e9aa64c3ca06d07cdc7e95ed4",
            "19ac61817459493d80a955ddb2506c8a",
            "55c1852cf4d24158b69b896acabebc55",
            "56109608363b40ef9510ac167591813e",
            "f60277c6731a49a496c5ca667b92f4d9"
          ]
        },
        "id": "Rt7FDNPL8a8E",
        "outputId": "b7fed5b2-d838-4bdf-9574-d97491e458b8"
      },
      "execution_count": null,
      "outputs": [
        {
          "output_type": "stream",
          "name": "stderr",
          "text": [
            "/usr/local/lib/python3.7/dist-packages/torchvision/models/_utils.py:223: UserWarning: Arguments other than a weight enum or `None` for 'weights' are deprecated since 0.13 and will be removed in 0.15. The current behavior is equivalent to passing `weights=ResNet18_Weights.IMAGENET1K_V1`. You can also use `weights=ResNet18_Weights.DEFAULT` to get the most up-to-date weights.\n",
            "  warnings.warn(msg)\n",
            "Downloading: \"https://download.pytorch.org/models/resnet18-f37072fd.pth\" to /root/.cache/torch/hub/checkpoints/resnet18-f37072fd.pth\n"
          ]
        },
        {
          "output_type": "display_data",
          "data": {
            "text/plain": [
              "  0%|          | 0.00/44.7M [00:00<?, ?B/s]"
            ],
            "application/vnd.jupyter.widget-view+json": {
              "version_major": 2,
              "version_minor": 0,
              "model_id": "5b80d59eb3044b57a4fb8da9176f3afe"
            }
          },
          "metadata": {}
        }
      ]
    },
    {
      "cell_type": "code",
      "metadata": {
        "id": "KMUoM7ToFFeK"
      },
      "source": [
        "print(resnet)"
      ],
      "execution_count": null,
      "outputs": []
    },
    {
      "cell_type": "code",
      "metadata": {
        "id": "t1KOHDdtFoK5"
      },
      "source": [
        "for param in resnet.parameters():\n",
        "    param.requires_grad = False"
      ],
      "execution_count": null,
      "outputs": []
    },
    {
      "cell_type": "code",
      "metadata": {
        "id": "LrL2ZlhrGwFL"
      },
      "source": [
        "in_features = resnet.fc.in_features\n",
        "resnet.fc = nn.Sequential(\n",
        "    nn.Linear(in_features,1000),\n",
        "    nn.ReLU(),\n",
        "    nn.Linear(1000,256),\n",
        "    nn.ReLU(),\n",
        "    nn.Linear(256,128),\n",
        "    nn.ReLU(),\n",
        "    nn.Linear(128,64),\n",
        "    nn.ReLU(),\n",
        "    nn.Linear(64,2)\n",
        "              )"
      ],
      "execution_count": null,
      "outputs": []
    },
    {
      "cell_type": "code",
      "metadata": {
        "id": "53REdyaaG8ap"
      },
      "source": [
        "for param in resnet.parameters():\n",
        "    if param.requires_grad:\n",
        "        print(param.shape)"
      ],
      "execution_count": null,
      "outputs": []
    },
    {
      "cell_type": "markdown",
      "source": [
        "-----------------------"
      ],
      "metadata": {
        "id": "dvWj2Px4IlKk"
      }
    },
    {
      "cell_type": "code",
      "metadata": {
        "id": "FzniE5sKKlnY",
        "colab": {
          "base_uri": "https://localhost:8080/",
          "height": 121,
          "referenced_widgets": [
            "0ec13961a96342898a0cf9712aee9af8",
            "8bd11d1e6cd348c8bedaccdbeabb7e7b",
            "ae10ba4fbad24bb387d913077fcf0fb3",
            "19fc9d06676848129bc8e531c2a3a676",
            "290cce01b65e4d4aa8f1c159a4288ffa",
            "c01775363b1d4da4992b7da229366917",
            "6b337525a1054915b4071280d8dee732",
            "95ca9d864f1346ccb2713d3de5b32947",
            "d9bb034fe9674d54b501420365e1c157",
            "3614dc127fd94d608305d0fc8406788f",
            "6a2bbde52080433e9484a9ccb26c9542"
          ]
        },
        "outputId": "14231ba5-0fd7-467b-a574-d2b99cb3542e"
      },
      "source": [
        "vgg = models.vgg16_bn(pretrained=True)"
      ],
      "execution_count": null,
      "outputs": [
        {
          "output_type": "stream",
          "name": "stderr",
          "text": [
            "/usr/local/lib/python3.7/dist-packages/torchvision/models/_utils.py:223: UserWarning: Arguments other than a weight enum or `None` for 'weights' are deprecated since 0.13 and will be removed in 0.15. The current behavior is equivalent to passing `weights=VGG16_BN_Weights.IMAGENET1K_V1`. You can also use `weights=VGG16_BN_Weights.DEFAULT` to get the most up-to-date weights.\n",
            "  warnings.warn(msg)\n",
            "Downloading: \"https://download.pytorch.org/models/vgg16_bn-6c64b313.pth\" to /root/.cache/torch/hub/checkpoints/vgg16_bn-6c64b313.pth\n"
          ]
        },
        {
          "output_type": "display_data",
          "data": {
            "text/plain": [
              "  0%|          | 0.00/528M [00:00<?, ?B/s]"
            ],
            "application/vnd.jupyter.widget-view+json": {
              "version_major": 2,
              "version_minor": 0,
              "model_id": "0ec13961a96342898a0cf9712aee9af8"
            }
          },
          "metadata": {}
        }
      ]
    },
    {
      "cell_type": "code",
      "source": [
        "print(vgg)"
      ],
      "metadata": {
        "id": "u6DQ6Y4PJGit"
      },
      "execution_count": null,
      "outputs": []
    },
    {
      "cell_type": "code",
      "metadata": {
        "id": "MzaHEHaczpWS"
      },
      "source": [
        "for param in vgg.parameters():\n",
        "    param.requires_grad = False"
      ],
      "execution_count": null,
      "outputs": []
    },
    {
      "cell_type": "code",
      "metadata": {
        "id": "YFAhAvahzrRh"
      },
      "source": [
        "final_in_features = vgg.classifier[6].in_features\n",
        "vgg.classifier[6] = nn.Sequential(\n",
        "    nn.Linear(final_in_features,1000),\n",
        "    nn.ReLU(),\n",
        "    nn.Linear(1000,256),\n",
        "    nn.ReLU(),\n",
        "    nn.Linear(256,128),\n",
        "    nn.ReLU(),\n",
        "    nn.Linear(128,64),\n",
        "    nn.ReLU(),\n",
        "    nn.Linear(64,2)\n",
        "              )"
      ],
      "execution_count": null,
      "outputs": []
    },
    {
      "cell_type": "markdown",
      "source": [
        "**Data Importation**"
      ],
      "metadata": {
        "id": "C3O0ha3dto0n"
      }
    },
    {
      "cell_type": "code",
      "source": [
        "from google.colab import drive\n",
        "drive.mount('/content/drive')"
      ],
      "metadata": {
        "id": "X24SWwsKsHSd",
        "colab": {
          "base_uri": "https://localhost:8080/"
        },
        "outputId": "94786d0e-5119-4d9d-b7d5-6cbbc6aed4aa"
      },
      "execution_count": null,
      "outputs": [
        {
          "output_type": "stream",
          "name": "stdout",
          "text": [
            "Mounted at /content/drive\n"
          ]
        }
      ]
    },
    {
      "cell_type": "code",
      "source": [
        "from torchvision import datasets, transforms"
      ],
      "metadata": {
        "id": "1EztL-ucuHTh"
      },
      "execution_count": null,
      "outputs": []
    },
    {
      "cell_type": "code",
      "source": [
        "import copy"
      ],
      "metadata": {
        "id": "hgEbxrc4baa5"
      },
      "execution_count": null,
      "outputs": []
    },
    {
      "cell_type": "code",
      "source": [
        "import numpy as np"
      ],
      "metadata": {
        "id": "ocAubFc60TTf"
      },
      "execution_count": null,
      "outputs": []
    },
    {
      "cell_type": "markdown",
      "source": [
        "- The datsets class from PyTorch expects a folder such that each class of i/p data has its own sub-folder\n",
        "- Splitting data into : Train/Validation/Test ~ (60-20-20) %"
      ],
      "metadata": {
        "id": "6gfX1r59HYEh"
      }
    },
    {
      "cell_type": "code",
      "source": [
        "transform_train = transforms.Compose([\n",
        "    transforms.RandomResizedCrop(299), \n",
        "    transforms.ToTensor(),\n",
        "    transforms.Normalize((0.5, 0.5, 0.5), (0.5, 0.5, 0.5)),\n",
        "    ])\n",
        "\n",
        "transform_val = transforms.Compose([\n",
        "    transforms.RandomResizedCrop(299), \n",
        "    transforms.ToTensor(),\n",
        "    transforms.Normalize((0.5, 0.5, 0.5), (0.5, 0.5, 0.5)),\n",
        "    ])\n",
        "\n",
        "transform_test = transforms.Compose([\n",
        "    transforms.RandomResizedCrop(299), \n",
        "    transforms.ToTensor(),\n",
        "    transforms.Normalize((0.5, 0.5, 0.5), (0.5, 0.5, 0.5)),\n",
        "    ])"
      ],
      "metadata": {
        "id": "XbbttGaRl8Ry"
      },
      "execution_count": null,
      "outputs": []
    },
    {
      "cell_type": "code",
      "source": [
        "train = datasets.ImageFolder(root= '/content/drive/MyDrive/Data_ThesisProject/Train',transform=transform_train)\n",
        "test = datasets.ImageFolder(root= '/content/drive/MyDrive/Data_ThesisProject/Test',transform=transform_test)\n",
        "val = datasets.ImageFolder(root= '/content/drive/MyDrive/Data_ThesisProject/Validation',transform=transform_val)"
      ],
      "metadata": {
        "id": "AWflou_XzuxW"
      },
      "execution_count": null,
      "outputs": []
    },
    {
      "cell_type": "code",
      "source": [
        "batch_size = 16\n",
        "trainloader = torch.utils.data.DataLoader(train, batch_size=batch_size, shuffle=True)\n",
        "testloader = torch.utils.data.DataLoader(test, batch_size=batch_size, shuffle=True)\n",
        "valloader = torch.utils.data.DataLoader(val, batch_size=batch_size, shuffle=True)"
      ],
      "metadata": {
        "id": "4sCpLFrSHp2M"
      },
      "execution_count": null,
      "outputs": []
    },
    {
      "cell_type": "markdown",
      "source": [
        "- The dataset loaders would by default provide the output encodings depending on thier classes, since the inputs were given such that a separate folder exists for each class \n",
        "- Here the first folder is given 0 class and correspondingly the second folder is given 1 class i.e \n",
        " - Defective class : 0\n",
        " - Non-Defective class : 1"
      ],
      "metadata": {
        "id": "nZZh6VCm0NsO"
      }
    },
    {
      "cell_type": "markdown",
      "source": [
        "**Model Importation**\n",
        "- To evaluate the performnce on multiple models"
      ],
      "metadata": {
        "id": "kEG33t-O42ee"
      }
    },
    {
      "cell_type": "code",
      "source": [
        "model = inception.to(device)\n",
        "loss_fn = nn.CrossEntropyLoss()"
      ],
      "metadata": {
        "id": "PVHkshq2bfNK"
      },
      "execution_count": null,
      "outputs": []
    },
    {
      "cell_type": "code",
      "source": [
        "for data in trainloader:\n",
        "  ip,labels = data\n",
        "  ip,labels = ip.to(device),labels.to(device)\n",
        "  print(labels)\n",
        "  break"
      ],
      "metadata": {
        "colab": {
          "base_uri": "https://localhost:8080/"
        },
        "id": "2IgEfVb3PgF3",
        "outputId": "ed166833-a1cc-4b46-8615-743c064af090"
      },
      "execution_count": null,
      "outputs": [
        {
          "output_type": "stream",
          "name": "stdout",
          "text": [
            "tensor([1, 1, 0, 1, 0, 1, 0, 0, 1, 1, 1, 0, 1, 1, 0, 1], device='cuda:0')\n"
          ]
        }
      ]
    },
    {
      "cell_type": "code",
      "source": [
        "def evaluation(dataset,model):\n",
        "  model.eval()\n",
        "  total = 0\n",
        "  positive = 0\n",
        "  for data in dataset:\n",
        "    inputs,labels = data\n",
        "    inputs, labels = inputs.to(device), labels.to(device)\n",
        "    pred_op,aux_op = model(inputs)\n",
        "    pred = torch.argmax(pred_op,1)\n",
        "    total += labels.size(0)\n",
        "    positive += (pred==labels).sum().item()\n",
        "  return 100 *(positive/total)"
      ],
      "metadata": {
        "id": "V0lSkR3U6ghf"
      },
      "execution_count": null,
      "outputs": []
    },
    {
      "cell_type": "code",
      "source": [
        "from tqdm import tqdm_notebook"
      ],
      "metadata": {
        "id": "cTYJ4XoCNFVC"
      },
      "execution_count": null,
      "outputs": []
    },
    {
      "cell_type": "code",
      "source": [
        "def fit(trainloader,testloader,model,loss_fn,optim,epochs=35):\n",
        "  min_loss = 1000\n",
        "  loss_arr = []\n",
        "  for i in tqdm_notebook(range(epochs),total=epochs,unit='epoch'):\n",
        "    ct = 0\n",
        "    for data in trainloader:\n",
        "      ct+=1\n",
        "      inputs,labels = data\n",
        "      inputs, labels = inputs.to(device), labels.to(device)\n",
        "      pred_op,aux_op = model(inputs)\n",
        "      loss = loss_fn(pred_op,labels)+0.3*(loss_fn(aux_op,labels))\n",
        "      opt.zero_grad()\n",
        "      loss.backward()\n",
        "      opt.step()\n",
        "\n",
        "      if min_loss>loss.item():\n",
        "        min_loss = loss.item()\n",
        "        best_model = copy.deepcopy(inception.state_dict())\n",
        "        print(min_loss)\n",
        "      \n",
        "      if ct%100 == 0:\n",
        "        print(ct,loss.item())\n",
        "      \n",
        "      del inputs,labels,pred_op\n",
        "      torch.cuda.empty_cache()\n",
        "\n",
        "    loss_arr.append(loss.item())\n",
        "\n",
        "    print(i,'Test_acc:',evaluation(testloader,inception),'Train_acc:',evaluation(trainloader,inception))\n",
        "    plt.plot(loss_arr)\n",
        "    plt.show()"
      ],
      "metadata": {
        "id": "L3e28AJBX0lC"
      },
      "execution_count": null,
      "outputs": []
    },
    {
      "cell_type": "code",
      "source": [
        "fit(trainloader,testloader,inception,loss_fn,optim,epochs=35)"
      ],
      "metadata": {
        "id": "Siagw6Fjfj7d"
      },
      "execution_count": null,
      "outputs": []
    },
    {
      "cell_type": "markdown",
      "source": [
        "------------------------"
      ],
      "metadata": {
        "id": "OpxFD9reKcBg"
      }
    },
    {
      "cell_type": "code",
      "source": [
        "vgg = vgg.to(device)\n",
        "loss_fn = nn.CrossEntropyLoss()\n",
        "opt = optim.SGD(vgg.parameters(), lr=0.05)"
      ],
      "metadata": {
        "id": "z_EyiT4AKbl-"
      },
      "execution_count": null,
      "outputs": []
    },
    {
      "cell_type": "code",
      "source": [
        "def evaluation(dataset,model):\n",
        "  model.eval()\n",
        "  total = 0\n",
        "  positive = 0\n",
        "  for data in dataset:\n",
        "    inputs,labels = data\n",
        "    inputs, labels = inputs.to(device), labels.to(device)\n",
        "    pred_op= model(inputs)\n",
        "    pred = torch.argmax(pred_op,1)\n",
        "    total += labels.size(0)\n",
        "    positive += (pred==labels).sum().item()\n",
        "  return 100 *(positive/total)"
      ],
      "metadata": {
        "id": "JLF9gIoeNJzp"
      },
      "execution_count": null,
      "outputs": []
    },
    {
      "cell_type": "code",
      "source": [
        "def fit(trainloader,testloader,model,loss_fn,optim,epochs=35):\n",
        "  min_loss = 1000\n",
        "  loss_arr = []\n",
        "  for i in tqdm_notebook(range(epochs),total=epochs,unit='epoch'):\n",
        "    ct = 0\n",
        "    for data in trainloader:\n",
        "      ct+=1\n",
        "      inputs,labels = data\n",
        "      inputs, labels = inputs.to(device), labels.to(device)\n",
        "      pred_op = model(inputs)\n",
        "\n",
        "      loss = loss_fn(pred_op,labels)\n",
        "      opt.zero_grad()\n",
        "      loss.backward()\n",
        "      opt.step()\n",
        "\n",
        "      if min_loss>loss.item():\n",
        "        min_loss = loss.item()\n",
        "        best_model = copy.deepcopy(inception.state_dict())\n",
        "        print(min_loss)\n",
        "      \n",
        "      if ct%100 == 0:\n",
        "        print(ct,loss.item())\n",
        "      \n",
        "      del inputs,labels,pred_op\n",
        "      torch.cuda.empty_cache()\n",
        "\n",
        "    loss_arr.append(loss.item())\n",
        "\n",
        "    print(i,'Test_acc:',evaluation(testloader,model),'Train_acc:',evaluation(trainloader,model))\n",
        "    plt.plot(loss_arr)\n",
        "    plt.show()"
      ],
      "metadata": {
        "id": "EtpZB-HJMw0e"
      },
      "execution_count": null,
      "outputs": []
    },
    {
      "cell_type": "code",
      "source": [
        "fit(trainloader,testloader,vgg,loss_fn,opt,epochs=35)"
      ],
      "metadata": {
        "id": "xBYL2Ui5NhMN"
      },
      "execution_count": null,
      "outputs": []
    },
    {
      "cell_type": "markdown",
      "source": [
        "-------------------"
      ],
      "metadata": {
        "id": "GQ9OkvMdZiUu"
      }
    },
    {
      "cell_type": "code",
      "source": [
        "resnet = resnet.to(device)\n",
        "loss_fn = nn.CrossEntropyLoss()\n",
        "opt = optim.SGD(resnet.parameters(), lr=0.05)"
      ],
      "metadata": {
        "id": "sRYndO8pNucc"
      },
      "execution_count": null,
      "outputs": []
    },
    {
      "cell_type": "code",
      "source": [
        "def evaluation(dataset,model):\n",
        "  model.eval()\n",
        "  total = 0\n",
        "  positive = 0\n",
        "  for data in dataset:\n",
        "    inputs,labels = data\n",
        "    inputs, labels = inputs.to(device), labels.to(device)\n",
        "    pred_op= model(inputs)\n",
        "    pred = torch.argmax(pred_op,1)\n",
        "    total += labels.size(0)\n",
        "    positive += (pred==labels).sum().item()\n",
        "  return 100 *(positive/total)"
      ],
      "metadata": {
        "id": "OdcrGMqRPLIi"
      },
      "execution_count": null,
      "outputs": []
    },
    {
      "cell_type": "code",
      "source": [
        "def fit(trainloader,testloader,model,loss_fn,optim,epochs=15):\n",
        "  min_loss = 1000\n",
        "  loss_arr = []\n",
        "  for i in tqdm_notebook(range(epochs),total=epochs,unit='epoch'):\n",
        "    ct = 0\n",
        "    for data in trainloader:\n",
        "      ct+=1\n",
        "      inputs,labels = data\n",
        "      inputs, labels = inputs.to(device), labels.to(device)\n",
        "      pred_op = model(inputs)\n",
        "\n",
        "      loss = loss_fn(pred_op,labels)\n",
        "      opt.zero_grad()\n",
        "      loss.backward()\n",
        "      opt.step()\n",
        "\n",
        "      if min_loss>loss.item():\n",
        "        min_loss = loss.item()\n",
        "        best_model = copy.deepcopy(inception.state_dict())\n",
        "        print(min_loss)\n",
        "      \n",
        "      if ct%100 == 0:\n",
        "        print(ct,loss.item())\n",
        "      \n",
        "      del inputs,labels,pred_op\n",
        "      torch.cuda.empty_cache()\n",
        "\n",
        "    loss_arr.append(loss.item())\n",
        "\n",
        "    print(i,'Test_acc:',evaluation(testloader,model),'Train_acc:',evaluation(trainloader,model))\n",
        "    plt.plot(loss_arr)\n",
        "    plt.show()"
      ],
      "metadata": {
        "id": "tzBR6BnhPLyh"
      },
      "execution_count": null,
      "outputs": []
    },
    {
      "cell_type": "code",
      "source": [
        "fit(trainloader,testloader,resnet,loss_fn,opt,epochs=15)"
      ],
      "metadata": {
        "id": "n66SbhnjZcat"
      },
      "execution_count": null,
      "outputs": []
    },
    {
      "cell_type": "markdown",
      "source": [
        "-----------------------------------------\n",
        "**Hyper Parameter Tuning**"
      ],
      "metadata": {
        "id": "IGTme7uKgXAA"
      }
    },
    {
      "cell_type": "code",
      "source": [
        "class Parameters():\n",
        "  def __init__(self,epochs,log_interval):\n",
        "    self.epochs = epochs\n",
        "    self.log_interval = log_interval\n",
        "args = Parameters(15,16)"
      ],
      "metadata": {
        "id": "OEepI3S9xK5d"
      },
      "execution_count": null,
      "outputs": []
    },
    {
      "cell_type": "code",
      "source": [
        "batch_size = 16\n",
        "trainloader = torch.utils.data.DataLoader(train, batch_size=batch_size, shuffle=True)\n",
        "testloader = torch.utils.data.DataLoader(test, batch_size=batch_size, shuffle=True)\n",
        "valloader = torch.utils.data.DataLoader(val, batch_size=batch_size, shuffle=True)"
      ],
      "metadata": {
        "id": "Ry0bpxVb9T-a"
      },
      "execution_count": null,
      "outputs": []
    },
    {
      "cell_type": "markdown",
      "source": [
        "**Train Function**"
      ],
      "metadata": {
        "id": "QsDMTOMsbuDO"
      }
    },
    {
      "cell_type": "code",
      "source": [
        "def train(epoch):\n",
        "  model.train()\n",
        "  for i,data in enumerate(trainloader):\n",
        "    ip,labels = data\n",
        "    ip,labels = ip.to(device),labels.to(device)\n",
        "    op,aux_op = model(ip)\n",
        "    loss = loss_fn(op,labels)+0.3*(loss_fn(aux_op,labels))\n",
        "    opt.zero_grad()\n",
        "    loss.backward()\n",
        "    opt.step()\n",
        "\n",
        "    if i%args.log_interval == 0:\n",
        "      #mlflow.log_metric('train_loss',loss.data.item())\n",
        "      print('Train epoch : {} [{}/{}]\\tLoss: {:.3f}'.format(epoch,(i*len(ip)),len(trainloader.dataset),loss.data.item()))"
      ],
      "metadata": {
        "id": "PWYvdRBJbxPe"
      },
      "execution_count": null,
      "outputs": []
    },
    {
      "cell_type": "markdown",
      "source": [
        "**Test Function**"
      ],
      "metadata": {
        "id": "C5q31ZsCsyro"
      }
    },
    {
      "cell_type": "code",
      "source": [
        "def test(epoch):\n",
        "  #model.eval()\n",
        "  correct = 0\n",
        "\n",
        "  with torch.no_grad():\n",
        "\n",
        "    for data in valloader:\n",
        "      ip1,labels1 = data\n",
        "      ip1,labels1 = ip1.to(device),labels1.to(device)\n",
        "      op1,aux_op1 = model(ip1)\n",
        "      test_loss = loss_fn(op1,labels1)+0.3*(loss_fn(aux_op1,labels1))\n",
        "      pred_op = torch.argmax(op1,1)\n",
        "      correct += (pred_op==labels1).sum().item()\n",
        "    test_acc = correct/len(valloader.dataset)\n",
        "    print('Accuracy (Test):{}%'.format(test_acc))\n",
        "    #mlflow.log_metric('test_loss',test_loss)\n",
        "    #mlflow.log_metric('test_accuracy',test_acc)"
      ],
      "metadata": {
        "id": "lgYV2xYMryS8"
      },
      "execution_count": null,
      "outputs": []
    },
    {
      "cell_type": "markdown",
      "source": [
        "**Loop for Tuning of Parameters**"
      ],
      "metadata": {
        "id": "awHYKsFRypoc"
      }
    },
    {
      "cell_type": "code",
      "source": [
        "for lr in [0.01,0.02,0.05]:\n",
        "  for momentum in [0.9,0.95,0.99]:\n",
        "    epochs = args.epochs\n",
        "    loss_fn = nn.CrossEntropyLoss()\n",
        "    opt = optim.SGD(model.parameters(), lr=lr, momentum = momentum)\n",
        "\n",
        "    #with mlflow.start_run() as run:\n",
        "      #for i,j in vars(args).items():\n",
        "        #mlflow.log_param(i,j)\n",
        "      #mlflow.log_param('lr',lr)\n",
        "      #mlflow.log_param('momentum',momentum)\n",
        "\n",
        "    for i in tqdm_notebook(range(epochs),total=epochs,unit='epoch'):\n",
        "      train(i)\n",
        "      test(i)\n",
        "    print('lr:',lr,'momentum:',momentum)"
      ],
      "metadata": {
        "id": "I5WSHnOMyfk_"
      },
      "execution_count": null,
      "outputs": []
    },
    {
      "cell_type": "code",
      "source": [
        "vars(args).items()"
      ],
      "metadata": {
        "id": "sYb9-wpj4C4_",
        "colab": {
          "base_uri": "https://localhost:8080/"
        },
        "outputId": "7641a600-79cd-473e-87a1-3034ed008279"
      },
      "execution_count": null,
      "outputs": [
        {
          "output_type": "execute_result",
          "data": {
            "text/plain": [
              "dict_items([('epochs', 5), ('log_interval', 20)])"
            ]
          },
          "metadata": {},
          "execution_count": 29
        }
      ]
    }
  ]
}